{
 "cells": [
  {
   "cell_type": "code",
   "execution_count": 1,
   "id": "0b48b060",
   "metadata": {},
   "outputs": [],
   "source": [
    "import os\n",
    "import sys\n",
    "module_path = os.path.abspath(os.path.join('..'))\n",
    "if module_path not in sys.path:\n",
    "    sys.path.append(module_path)\n",
    "\n",
    "from selenium.webdriver.common.by import By\n",
    "from selenium.webdriver.support.ui import WebDriverWait\n",
    "from selenium.common.exceptions import NoSuchElementException\n",
    "\n",
    "from common.setups import get_safe_setup, get_local_safe_setup\n",
    "from common.helpers import get_element_by_selector\n",
    "\n",
    "driver = get_local_safe_setup()\n",
    "\n",
    "driver.get(\"https://quotes.toscrape.com/\")"
   ]
  },
  {
   "cell_type": "markdown",
   "id": "db37331f",
   "metadata": {},
   "source": [
    "## Getting text from element"
   ]
  },
  {
   "cell_type": "code",
   "execution_count": 2,
   "id": "424d40f4",
   "metadata": {},
   "outputs": [
    {
     "data": {
      "text/plain": [
       "'“The world as we have created it is a process of our thinking. It cannot be changed without changing our thinking.”'"
      ]
     },
     "execution_count": 2,
     "metadata": {},
     "output_type": "execute_result"
    }
   ],
   "source": [
    "first_quote = driver.find_element(By.CLASS_NAME, 'quote')\n",
    "\n",
    "get_element_by_selector(first_quote, 'span')"
   ]
  },
  {
   "cell_type": "code",
   "execution_count": 3,
   "id": "85943bd0",
   "metadata": {},
   "outputs": [
    {
     "data": {
      "text/plain": [
       "'“The world as we have created it is a process of our thinking. It cannot be changed without changing our thinking.”'"
      ]
     },
     "execution_count": 3,
     "metadata": {},
     "output_type": "execute_result"
    }
   ],
   "source": [
    "first_quote = driver.find_element(By.CSS_SELECTOR, '.quote')\n",
    "\n",
    "get_element_by_selector(first_quote, 'span')"
   ]
  },
  {
   "cell_type": "code",
   "execution_count": 4,
   "id": "e4bed23a",
   "metadata": {},
   "outputs": [
    {
     "data": {
      "text/plain": [
       "'“The world as we have created it is a process of our thinking. It cannot be changed without changing our thinking.”'"
      ]
     },
     "execution_count": 4,
     "metadata": {},
     "output_type": "execute_result"
    }
   ],
   "source": [
    "first_quote = driver.find_element(By.XPATH, '/html/body/div/div[2]/div[1]/div[1]')\n",
    "\n",
    "get_element_by_selector(first_quote, 'span')"
   ]
  },
  {
   "cell_type": "markdown",
   "id": "7bec98d6",
   "metadata": {},
   "source": [
    "## DOM life-cycle"
   ]
  },
  {
   "cell_type": "code",
   "execution_count": 5,
   "id": "91160bb1",
   "metadata": {},
   "outputs": [
    {
     "name": "stdout",
     "output_type": "stream",
     "text": [
      "Message: stale element reference: element is not attached to the page document\n",
      "  (Session info: chrome=100.0.4896.60)\n",
      "\n"
     ]
    },
    {
     "data": {
      "text/plain": [
       "'“The world as we have created it is a process of our thinking. It cannot be changed without changing our thinking.”'"
      ]
     },
     "execution_count": 5,
     "metadata": {},
     "output_type": "execute_result"
    }
   ],
   "source": [
    "driver.refresh()\n",
    "\n",
    "try:\n",
    "    get_element_by_selector(first_quote, 'span')\n",
    "except Exception as e:\n",
    "    print(e)\n",
    "\n",
    "# Query it once again to get the text\n",
    "first_quote = driver.find_element(By.CLASS_NAME, 'quote')\n",
    "\n",
    "get_element_by_selector(first_quote, 'span')"
   ]
  },
  {
   "cell_type": "markdown",
   "id": "662f92c0",
   "metadata": {},
   "source": [
    "## Getting Text From Elements"
   ]
  },
  {
   "cell_type": "code",
   "execution_count": 6,
   "id": "5a9ea05f",
   "metadata": {},
   "outputs": [
    {
     "name": "stdout",
     "output_type": "stream",
     "text": [
      "“The world as we have created it is a process of our thinking. It cannot be changed without changing our thinking.”\n",
      "“It is our choices, Harry, that show what we truly are, far more than our abilities.”\n",
      "“There are only two ways to live your life. One is as though nothing is a miracle. The other is as though everything is a miracle.”\n",
      "“The person, be it gentleman or lady, who has not pleasure in a good novel, must be intolerably stupid.”\n",
      "“Imperfection is beauty, madness is genius and it's better to be absolutely ridiculous than absolutely boring.”\n",
      "“Try not to become a man of success. Rather become a man of value.”\n",
      "“It is better to be hated for what you are than to be loved for what you are not.”\n",
      "“I have not failed. I've just found 10,000 ways that won't work.”\n",
      "“A woman is like a tea bag; you never know how strong it is until it's in hot water.”\n",
      "“A day without sunshine is like, you know, night.”\n"
     ]
    }
   ],
   "source": [
    "elements = driver.find_elements(By.CLASS_NAME, 'quote')\n",
    "\n",
    "for e in elements:\n",
    "    print(get_element_by_selector(e, 'span'))"
   ]
  },
  {
   "cell_type": "markdown",
   "id": "96efc3b5",
   "metadata": {},
   "source": [
    "## List All Tags for First Quote"
   ]
  },
  {
   "cell_type": "code",
   "execution_count": 7,
   "id": "f8cc180f",
   "metadata": {},
   "outputs": [
    {
     "data": {
      "text/plain": [
       "selenium.webdriver.remote.webelement.WebElement"
      ]
     },
     "execution_count": 7,
     "metadata": {},
     "output_type": "execute_result"
    }
   ],
   "source": [
    "type(first_quote)"
   ]
  },
  {
   "cell_type": "code",
   "execution_count": 8,
   "id": "da35baa8",
   "metadata": {},
   "outputs": [
    {
     "name": "stdout",
     "output_type": "stream",
     "text": [
      "change\n",
      "deep-thoughts\n",
      "thinking\n",
      "world\n"
     ]
    }
   ],
   "source": [
    "first_quote = driver.find_element(By.CLASS_NAME, 'quote')\n",
    "tags = first_quote.find_elements(By.CLASS_NAME, 'tag')\n",
    "\n",
    "for t in tags:\n",
    "    print(t.text)"
   ]
  },
  {
   "cell_type": "markdown",
   "id": "4d66b07c",
   "metadata": {},
   "source": [
    "## Driver Run Script"
   ]
  },
  {
   "cell_type": "code",
   "execution_count": 9,
   "id": "68356d90",
   "metadata": {},
   "outputs": [],
   "source": [
    "driver.execute_script('alert(1)')"
   ]
  },
  {
   "cell_type": "markdown",
   "id": "1fbbee1a",
   "metadata": {},
   "source": [
    "## Navigate to Next Page and Then Get Back"
   ]
  },
  {
   "cell_type": "code",
   "execution_count": 10,
   "id": "602e7d26",
   "metadata": {},
   "outputs": [],
   "source": [
    "driver.execute_script(\"window.scrollBy(0,500)\")\n",
    "\n",
    "next_page = driver.find_element(By.CSS_SELECTOR, '.next a')\n",
    "next_page.click()"
   ]
  },
  {
   "cell_type": "code",
   "execution_count": 11,
   "id": "db22a100",
   "metadata": {},
   "outputs": [],
   "source": [
    "prev_page = driver.find_element(By.CSS_SELECTOR, '.previous a')\n",
    "prev_page.click()"
   ]
  },
  {
   "cell_type": "markdown",
   "id": "49b4af56",
   "metadata": {},
   "source": [
    "## Make a screenshot"
   ]
  },
  {
   "cell_type": "code",
   "execution_count": 12,
   "id": "ebd0b377",
   "metadata": {},
   "outputs": [],
   "source": [
    "from PIL import Image\n",
    "from io import BytesIO\n",
    "\n",
    "first_quote = driver.find_element(By.CSS_SELECTOR, '.quote')\n",
    "\n",
    "location = first_quote.location\n",
    "size = first_quote.size\n",
    "\n",
    "png = driver.get_screenshot_as_png() \n",
    "\n",
    "im = Image.open(BytesIO(png)) \n",
    "\n",
    "left = location['x']\n",
    "top = location['y']\n",
    "right = location['x'] + size['width']\n",
    "bottom = location['y'] + size['height']\n",
    "\n",
    "\n",
    "im = im.crop((left, top, right, bottom)) # defines crop points\n",
    "im.save('./screenshot.png') # saves new cropped image"
   ]
  },
  {
   "cell_type": "code",
   "execution_count": 13,
   "id": "91d2a3ba",
   "metadata": {},
   "outputs": [
    {
     "data": {
      "image/png": "[encoded data removed]",
      "text/plain": [
       "<IPython.core.display.Image object>"
      ]
     },
     "execution_count": 13,
     "metadata": {},
     "output_type": "execute_result"
    }
   ],
   "source": [
    "from IPython.display import Image\n",
    "Image(filename='./screenshot.png') "
   ]
  },
  {
   "cell_type": "code",
   "execution_count": null,
   "id": "dfd6f8bb",
   "metadata": {},
   "outputs": [],
   "source": []
  }
 ],
 "metadata": {
  "kernelspec": {
   "display_name": "course",
   "language": "python",
   "name": "course"
  },
  "language_info": {
   "codemirror_mode": {
    "name": "ipython",
    "version": 3
   },
   "file_extension": ".py",
   "mimetype": "text/x-python",
   "name": "python",
   "nbconvert_exporter": "python",
   "pygments_lexer": "ipython3",
   "version": "3.6.9"
  }
 },
 "nbformat": 4,
 "nbformat_minor": 5
}
